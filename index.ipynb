{
 "cells": [
  {
   "cell_type": "markdown",
   "metadata": {
    "slideshow": {
     "slide_type": "slide"
    }
   },
   "source": [
    "# Making slides for a RISE presentation with two images per slide from a collection of slides\n",
    "\n",
    "Step-by-step instructions:\n",
    "\n",
    "------\n",
    "\n",
    "<div class=\"alert alert-block alert-warning\">\n",
    "<p>If you haven't used one of these notebooks before, they're basically web pages in which you can write, edit, and run live code. They're meant to encourage experimentation, so don't feel nervous. Just try running a few cells and see what happens!.</p>\n",
    "\n",
    "<p>\n",
    "    Some tips:\n",
    "    <ul>\n",
    "        <li>Code cells have boxes around them.</li>\n",
    "        <li>To run a code cell either click the <i class=\"fa-play fa\"></i> icon on the menu bar above, or click on the cell and then hit <b>Shift+Enter</b>. The <b>Shift+Enter</b> combo will also move you to the next cell, so it's a quick way to work through the notebook.</li>\n",
    "        <li>While a cell is running a <b>*</b> appears in the square brackets next to the cell. Once the cell has finished running the asterisk will be replaced with a number.</li>\n",
    "        <li>In most cases you'll want to start from the top of notebook and work your way down running each cell in turn. Later cells might depend on the results of earlier ones.</li>\n",
    "        <li>To edit a code cell, just click on it and type stuff. Remember to run the cell once you've finished editing.</li>\n",
    "    </ul>\n",
    "</p>\n",
    "</div>\n",
    "\n",
    "----\n",
    "\n",
    "For orientation:\n",
    "This page is the main panel and to the left you should see a 'file browser' panel listing some folders and files, including this one. You may need to click and drag the border in between the two panes in order to better see the names. In particular you want to look for a folder icon next to the name 'SLIDESHOW_IMGS'.\n",
    "\n",
    "Follow the steps below.\n",
    "\n",
    "----\n",
    "\n",
    "## STEP 1 : UPLOAD IMAGES.\n",
    "\n",
    "Put the images to make into slides with pairs of images on them in the directory `SLIDESHOW_IMGS`. Then run the processing script. The step-by-step process to upload the image files follows.  \n",
    "However, if you don't have images handy to upload and still **want a demonstration, you can instead just skip to running the next cell** and the script will generate some placeholder images for demonstration purposes.\n",
    "\n",
    "The step-by-step to upload your images:\n",
    "\n",
    "1. Double-click on 'SLIDESHOW_IMGS' folder icon in the file browser panel to the left of this page. That will drop the navigation into the empty folder.\n",
    "\n",
    "2. Drag-and-drop all the image files for making into slides into the empty file browser panel to the left of this page. (A gray dashed line will appear around the edge of the file browser when drag the file onto the file browser pane & at this point you can drop a file or files in by releasing the mouse button.)\n",
    "\n",
    "3. Give the image files time to upload. There were be a blue bar at the bottom to monitor the progress. **You don't want to continue until you are sure all the files are uploaded.**\n",
    "\n",
    "4. At the top of the panel where you just dragged the photos & to the left of the 'SLIDESHOW_IMGS' text, click on the Home icon to go back up to the level above the photos files in the file heierarchy.\n",
    "\n",
    "5. Click in the next cell and execute the commands in the script by typing shift-return (or hit the play icon the menu at the top bar of this page).\n"
   ]
  },
  {
   "cell_type": "code",
   "execution_count": 1,
   "metadata": {},
   "outputs": [
    {
     "data": {
      "application/vnd.jupyter.widget-view+json": {
       "model_id": "3cfca5f85a9b4cf2b1b97ca743448dba",
       "version_major": 2,
       "version_minor": 0
      },
      "text/plain": [
       "Output()"
      ]
     },
     "metadata": {},
     "output_type": "display_data"
    },
    {
     "name": "stderr",
     "output_type": "stream",
     "text": [
      "\n",
      "**************SLIDESHOW GENERATION DONE***************************\n",
      "imgs2slidesJan1920212049.tar.gz generated. Download it.\n",
      "**************SLIDESHOW GENERATION DONE***************************"
     ]
    }
   ],
   "source": [
    "%run imgs2RISEslides.ipy"
   ]
  },
  {
   "cell_type": "markdown",
   "metadata": {},
   "source": [
    "Download the file listed above with `.tar.gz` at the end of the file name to your local machine. \n",
    "An archive has been generated with the slide notebook and accompanying slide images organized in a special directory and you need to download that file from this remote session to your own computer.  \n",
    "**This session will go stale without any activity in 10 minutes**, and so this is a **very important step if you don't want to run things again**.\n"
   ]
  },
  {
   "cell_type": "markdown",
   "metadata": {},
   "source": [
    "Once you have this archive downloaded, you'll want to see it in action. For the time being, launch a session from [here](https://github.com/binder-examples/jupyter-rise) and close the slide show presentation that opens by default. Click on the Jupyter logo in the upper left to go to the Jupyter Dashboard and upload the archive file.\n",
    "\n",
    "Once the archive is uploaded. You need to unpack it. To do that, in the dashboard, select `New` drop-down on the right side of the dashboard, and select `Terminal` from the list.  \n",
    "When the terminal opens type the following and hit tab to autocomplete the command:\n",
    "\n",
    "```\n",
    "tar xzf imgs2slides\n",
    "```\n",
    "After hitting tab the **full name of the file you uploaded** should show up in the terminal following the `tar xzf` and you can hit return now to go ahead and unpack it.\n",
    "\n",
    "You can now double-click to open your slideshow notebook file that begins with `slides_nb` and the slideshow should run automatically, showing your images.\n",
    "\n",
    "There is a `LOG` file that gets made and then saved into the archive as well. This file is unnecessary for actually running the slides. It is simply for tracking the run and can be useful for recalling notebooks and accompanying images if you later accidentally separate the notebook file from the image directory.\n",
    "\n",
    "(Technically, I could make the slideshow viewable where the slides were generated; however I worry then users won't realize they need the image directory to accompany it. This helps emphasize this. Change to allow viewing?)"
   ]
  },
  {
   "cell_type": "markdown",
   "metadata": {},
   "source": [
    "Importantly, note you need to move the accompanying image directory `SLIDESHOW_IMGS` to be in the directory with the notebook for running this slideshow in the future.\n",
    "\n",
    "\n",
    "```\n",
    "To do for developing this page and script further:\n",
    "\n",
    "Add & describe how the order could be be indicated prior to making the slideshow so that the image files are already in the desired order in the slide show. This will save you editing later. \n",
    "\n",
    "Describe how to adjust image sizes\n",
    "\n",
    "Plus, I’d like to eventually add a widget that displays the list of images in the directory and then lets you arrange the order prior to making all the slides. (THis wouldn't necessarily need to replace the ability to add numbers to arrange order because you may be able to do it quicker upstream at the source of the images with a programmatic way to indicate the order.\n",
    "```\n",
    "\n",
    "\n"
   ]
  },
  {
   "cell_type": "markdown",
   "metadata": {},
   "source": [
    "### STEP 5. RUN THROUGH AGAIN?\n",
    "\n",
    "Not quite what you needed? Or meed more? \n",
    "\n",
    "\n",
    "\n",
    "\n",
    "-----"
   ]
  }
 ],
 "metadata": {
  "celltoolbar": "Slideshow",
  "kernelspec": {
   "display_name": "Python 3",
   "language": "python",
   "name": "python3"
  },
  "language_info": {
   "codemirror_mode": {
    "name": "ipython",
    "version": 3
   },
   "file_extension": ".py",
   "mimetype": "text/x-python",
   "name": "python",
   "nbconvert_exporter": "python",
   "pygments_lexer": "ipython3",
   "version": "3.7.8"
  },
  "livereveal": {
   "autolaunch": true,
   "scroll": true
  }
 },
 "nbformat": 4,
 "nbformat_minor": 4
}
