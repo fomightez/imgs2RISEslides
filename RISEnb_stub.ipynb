{
 "cells": [
  {
   "cell_type": "markdown",
   "metadata": {
    "slideshow": {
     "slide_type": "slide"
    }
   },
   "source": [
    "# Welcome to the Binder-RISE with your images\n",
    "Press `space` to move to the next slide... \n",
    "\n",
    "Move the cells to your own notebook or change this one.\n",
    "\n",
    "Note you need to move the accompanying image directory `img_dir` to be in the directory with the notebook.\n",
    "\n",
    "Images on next slides..."
   ]
  },
  {
   "cell_type": "markdown",
   "metadata": {
    "slideshow": {
     "slide_type": "slide"
    }
   },
   "source": [
    "# And that's it!\n",
    "\n",
    "Move the cells to your own notebook or change this one. Edit the references to the image files to the order you'd like if they aren't in that order already. See the directions for how the default order is made if you'd like to save editing later.\n",
    "\n",
    "Note you need to move the accompanying image directory `img_dir` to be in the directory with the notebook.\n",
    "\n",
    "If you want to learn more about the RISE plugin, check out [the RISE documentation](https://damianavila.github.io/RISE).\n",
    "\n",
    "If you want to go backwards, hit `shift + space`. Or click the `X` in the top left to go back to the notebook interface."
   ]
  }
 ],
 "metadata": {
  "celltoolbar": "Slideshow",
  "kernelspec": {
   "display_name": "Python 3",
   "language": "python",
   "name": "python3"
  },
  "language_info": {
   "codemirror_mode": {
    "name": "ipython",
    "version": 3
   },
   "file_extension": ".py",
   "mimetype": "text/x-python",
   "name": "python",
   "nbconvert_exporter": "python",
   "pygments_lexer": "ipython3",
   "version": "3.7.6"
  },
  "livereveal": {
   "autolaunch": true,
   "scroll": true
  }
 },
 "nbformat": 4,
 "nbformat_minor": 4
}
