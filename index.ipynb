{
 "cells": [
  {
   "cell_type": "markdown",
   "metadata": {
    "slideshow": {
     "slide_type": "slide"
    }
   },
   "source": [
    "# Making slides for a RISE presentation with two images per slide from a collection of slides\n",
    "\n",
    "The s\n",
    "t.\n",
    "\n",
    "------\n",
    "\n",
    "<div class=\"alert alert-block alert-warning\">\n",
    "<p>If you haven't used one of these notebooks before, they're basically web pages in which you can write, edit, and run live code. They're meant to encourage experimentation, so don't feel nervous. Just try running a few cells and see what happens!.</p>\n",
    "\n",
    "<p>\n",
    "    Some tips:\n",
    "    <ul>\n",
    "        <li>Code cells have boxes around them.</li>\n",
    "        <li>To run a code cell either click the <i class=\"fa-play fa\"></i> icon on the menu bar above, or click on the cell and then hit <b>Shift+Enter</b>. The <b>Shift+Enter</b> combo will also move you to the next cell, so it's a quick way to work through the notebook.</li>\n",
    "        <li>While a cell is running a <b>*</b> appears in the square brackets next to the cell. Once the cell has finished running the asterisk will be replaced with a number.</li>\n",
    "        <li>In most cases you'll want to start from the top of notebook and work your way down running each cell in turn. Later cells might depend on the results of earlier ones.</li>\n",
    "        <li>To edit a code cell, just click on it and type stuff. Remember to run the cell once you've finished editing.</li>\n",
    "    </ul>\n",
    "</p>\n",
    "</div>\n",
    "\n",
    "----\n",
    "\n",
    "For orientation:\n",
    "This page is the main panel and to the left you should see a 'file browser' panel listing some folders and files, including this one. You may need to click and drag the border in between the two panes in order to better see the names. In particular you want to look for a folder icon next the name 'PUT_IMAGES_HERE'.\n",
    "\n",
    "Follow the steps below.\n",
    "\n",
    "----\n",
    "\n",
    "## STEP 1 : UPLOAD IMAGES.\n",
    "\n",
    "Put the images to make into slides with pairs of images on them in the directory `PUT_IMAGES_HERE`. Then run the processing script.\n",
    "\n",
    "The step-by-step to do that:\n",
    "\n",
    "1. Double-click on 'PUT_IMAGES_HERE' folder icon in the file browser panel to the left of this page. That will drop the navigation into the empty folder.\n",
    "\n",
    "2. Drag-and-drop all the image files for making into slides into the empty file browser panel to the left of this page. (A gray dashed line will appear around the edge of the file browser when drag the file onto the file browser pane & at this point you can drop a file or files in by releasing the mouse button.)\n",
    "\n",
    "3. Give the image files time to upload. There were be a blue bar at the bottom to monitor the progress. **You don't want to continue until you are sure all the files are uploaded.**\n",
    "\n",
    "4. At the top of the panel where you just dragged the photos & to the left of the 'PUT_IMAGES_HERE' text, click on the Home icon to go back up to the level above the photos files in the file heierarchy.\n",
    "\n",
    "5. Click in the next cell and execute the commands in the script by typing shift-return (or hit the play icon the menu at the top bar of this page).\n"
   ]
  },
  {
   "cell_type": "code",
   "execution_count": null,
   "metadata": {},
   "outputs": [],
   "source": [
    "%run imgs2RISEslides.ipy"
   ]
  },
  {
   "cell_type": "markdown",
   "metadata": {},
   "source": [
    "You'll want to bring the generated archive with the slide notebook and accompanying slide images organized in a special directory from this remote session to your own computer. **This session will go stale without any activity in 10 minutes**, and so this is a **very important step if you don't want to run things again**.\n"
   ]
  },
  {
   "cell_type": "markdown",
   "metadata": {},
   "source": [
    "To do:\n",
    "\n",
    "Describe how the order can be indicated prior to making the slideshow so that the image files are already in the desired order in the slide show. This will save you editing later.\n",
    "\n",
    "Note you need to move the accompanying image directory `img_dir` to be in the directory with the notebook.\n"
   ]
  },
  {
   "cell_type": "markdown",
   "metadata": {},
   "source": [
    "### STEP 5. RUN THROUGH AGAIN?\n",
    "\n",
    "Not quite what you needed? Or meed more? \n",
    "\n",
    "\n",
    "\n",
    "\n",
    "-----"
   ]
  }
 ],
 "metadata": {
  "celltoolbar": "Slideshow",
  "kernelspec": {
   "display_name": "Python 3",
   "language": "python",
   "name": "python3"
  },
  "language_info": {
   "codemirror_mode": {
    "name": "ipython",
    "version": 3
   },
   "file_extension": ".py",
   "mimetype": "text/x-python",
   "name": "python",
   "nbconvert_exporter": "python",
   "pygments_lexer": "ipython3",
   "version": "3.7.6"
  },
  "livereveal": {
   "autolaunch": true,
   "scroll": true
  }
 },
 "nbformat": 4,
 "nbformat_minor": 4
}
